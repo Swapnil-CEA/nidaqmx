{
 "cells": [
  {
   "cell_type": "code",
   "execution_count": null,
   "metadata": {
    "collapsed": true
   },
   "outputs": [],
   "source": [
    "import nidaqmx\n",
    "import numpy as np\n",
    "from nidaqmx.constants import Edge, AcquisitionType, TriggerUsage, Coupling, VoltageUnits, TerminalConfiguration\n",
    "import datetime\n",
    "import time\n",
    "from scipy.io import savemat\n",
    "import nidaqmx.stream_readers\n",
    "Active_chan_PXI1Slot4_0 = (\"PXI1Slot4/ai0\")\n",
    "Active_chan_PXI1Slot4_1 = (\"PXI1Slot4/ai1\")\n",
    "Active_chan_PXI1Slot4_2 = (\"PXI1Slot4/ai2\")\n",
    "Active_chan_PXI1Slot4_3 = (\"PXI1Slot4/ai3\")\n",
    "#For PXI-4462: Limit for number of samples is Following \n",
    "#Maximum Value: 16777215 samples per channel\n",
    "#Minimum Value: 32 samples samples per channel\n",
    "#For PXI-4462:  Acquisition Frequency is Following \n",
    "#Maximum Value: 204800 Hz\n",
    "#Minimum Value: 32 Hz\n",
    "Samples_Per_Sec = 50000 #Acquisition frequency\n",
    "samps_per_chan=15000000 #Number of samples per channel should be less than or equal to 16777215\n",
    "samps_per_file=30000000 #Number of samples per channel to be written in a single file\n",
    "#Following line determines the name of the file you will want to save\n",
    "#This name will also be followed by the number mentioned by 'i' which can iterate in increment of one\n",
    "name = 'Acqui_1_'\n",
    "i=0\n",
    "#Following line determsines the number of iterations you will want to perform for acquisition of data\n",
    "#For Ex: If you want 'n' no of iterations you can put 'range(n+1)'===>The loop will stop at 'n'\n",
    "num_files=5 # For ex: If one file takes 10 mins for data acquisition; you will acquire data for \"num_files*10\" mins of time\n",
    "SPC = samps_per_chan # Just a dummy variable to pass on to the function\n",
    "arr = (samps_per_chan)\n",
    "for i in range(num_files):\n",
    "    print(\"You are in Loop No:\",i)\n",
    "    with nidaqmx.Task() as task:\n",
    "        #You can change the properties of channel by editing the following lines such as range, units, terminal\n",
    "        #configuration and couplings of each channel seperately.\n",
    "        chan0 = task.ai_channels.add_ai_voltage_chan(Active_chan_PXI1Slot4_0,terminal_config=TerminalConfiguration.DIFFERENTIAL,\n",
    "                                             min_val=-3.16, max_val=3.16,units=VoltageUnits.VOLTS) # For PXI - 4462\n",
    "        chan0.ai_coupling = Coupling.DC \n",
    "        chan1 = task.ai_channels.add_ai_voltage_chan(Active_chan_PXI1Slot4_1,terminal_config=TerminalConfiguration.DIFFERENTIAL,\n",
    "                                             min_val=-0.316, max_val=0.316,units=VoltageUnits.VOLTS) # For PXI - 4462\n",
    "        chan1.ai_coupling = Coupling.DC\n",
    "        chan2 = task.ai_channels.add_ai_voltage_chan(Active_chan_PXI1Slot4_2,terminal_config=TerminalConfiguration.DIFFERENTIAL,\n",
    "                                             min_val=-1.0, max_val=1.0,units=VoltageUnits.VOLTS) # For PXI - 4462\n",
    "        chan2.ai_coupling = Coupling.DC\n",
    "        chan3 = task.ai_channels.add_ai_voltage_chan(Active_chan_PXI1Slot4_3,terminal_config=TerminalConfiguration.DIFFERENTIAL,\n",
    "                                             min_val=-10.0, max_val=10.0,units=VoltageUnits.VOLTS) # For PXI - 4462\n",
    "        chan3.ai_coupling = Coupling.DC\n",
    "        task.timing.cfg_samp_clk_timing(Samples_Per_Sec, source=\"\", \n",
    "           active_edge=Edge.RISING,sample_mode=AcquisitionType.CONTINUOUS,samps_per_chan=SPC)\n",
    "        #Following line is to create a preallocated numpy array of size(active number of channels,samps_per_file)\n",
    "        #Here RAM is used to preallocated the array in case we wants to acquire continuous data which is more than onboard memory.\n",
    "        data=np.ndarray((4,samps_per_file),dtype=np.float64)\n",
    "        #Following line acquires the samples and writes it in the variable we created named \"data\"\n",
    "        q=nidaqmx.stream_readers.AnalogMultiChannelReader(task.in_stream).read_many_sample(data,samps_per_file,timeout=nidaqmx.constants.WAIT_INFINITELY)\n",
    "        #Following line is optional; it is helpful if you use Matlab/Octave for post-processing of data\n",
    "        #Following line saves the array 'data' which is in 'numpy.ndarray' to '.mat' file in your working directory.\n",
    "        savemat (\"%s%d\" % (name,i), {'data': data})  \n",
    "             \n",
    "print(\"Done!\")        \n",
    "\n",
    "\n",
    "                          "
   ]
  }
 ],
 "metadata": {
  "kernelspec": {
   "display_name": "Python 3",
   "language": "python",
   "name": "python3"
  },
  "language_info": {
   "codemirror_mode": {
    "name": "ipython",
    "version": 3
   },
   "file_extension": ".py",
   "mimetype": "text/x-python",
   "name": "python",
   "nbconvert_exporter": "python",
   "pygments_lexer": "ipython3",
   "version": "3.6.3"
  }
 },
 "nbformat": 4,
 "nbformat_minor": 2
}
